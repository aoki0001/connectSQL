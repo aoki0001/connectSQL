{
 "cells": [
  {
   "cell_type": "code",
   "execution_count": 7,
   "metadata": {
    "scrolled": true
   },
   "outputs": [
    {
     "name": "stdout",
     "output_type": "stream",
     "text": [
      "Requirement already satisfied: mysqlclient in c:\\users\\aoki\\anaconda3\\lib\\site-packages (2.0.3)\n"
     ]
    }
   ],
   "source": [
    "!pip install mysqlclient"
   ]
  },
  {
   "cell_type": "code",
   "execution_count": 8,
   "metadata": {},
   "outputs": [],
   "source": [
    "import os\n",
    "#import pymysql\n",
    "import pandas as pd\n",
    "import matplotlib.pyplot as plt\n",
    "import MySQLdb\n",
    "\n",
    "# 接続する\n",
    "conn = MySQLdb.connect(\n",
    "user='root',\n",
    "passwd='xxxxxxxxx',\n",
    "host='localhost',\n",
    "db='hyojyun',\n",
    "charset='utf8mb4')\n",
    "\n",
    "# 接続を閉じる\n",
    "#conn.close"
   ]
  },
  {
   "cell_type": "code",
   "execution_count": 9,
   "metadata": {},
   "outputs": [
    {
     "name": "stdout",
     "output_type": "stream",
     "text": [
      "(1, -1, 'B1-1-1前室', '病院等', '終日利用される廊下', 24.0, 5.0, 2.5, 1, 0, 1, 0, '総合病院モデル', '')\n"
     ]
    },
    {
     "data": {
      "text/plain": [
       "<function Connection.close>"
      ]
     },
     "execution_count": 9,
     "metadata": {},
     "output_type": "execute_result"
    }
   ],
   "source": [
    "# カーソルを取得する\n",
    "cur = conn.cursor()\n",
    "\n",
    "# SQL（データベースを操作するコマンド）を実行する\n",
    "# userテーブルから、HostとUser列を取り出す\n",
    "#sql = \"select Host, User from user\"\n",
    "sql = \"select * from room where id=1\"\n",
    "\n",
    "cur.execute(sql)\n",
    "\n",
    "# 実行結果を取得する\n",
    "rows = cur.fetchall()\n",
    "\n",
    "# 一行ずつ表示する\n",
    "for row in rows:\n",
    " print(row)\n",
    "\n",
    "cur.close\n",
    "conn.close"
   ]
  },
  {
   "cell_type": "code",
   "execution_count": 26,
   "metadata": {},
   "outputs": [
    {
     "name": "stdout",
     "output_type": "stream",
     "text": [
      "       area\n",
      "0      24.0\n",
      "1      58.0\n",
      "2      10.5\n",
      "3     112.0\n",
      "4      80.0\n",
      "...     ...\n",
      "2027  290.0\n",
      "2028  120.0\n",
      "2029   40.0\n",
      "2030  312.0\n",
      "2031  254.0\n",
      "\n",
      "[2032 rows x 1 columns]\n"
     ]
    }
   ],
   "source": [
    "df = pd.read_sql_query(\n",
    "#    \"select area from room where yoto2='診察室'\",\n",
    "    \"select area from room\",\n",
    "    conn)\n",
    "\n",
    "print(df)"
   ]
  },
  {
   "cell_type": "code",
   "execution_count": 36,
   "metadata": {},
   "outputs": [
    {
     "data": {
      "image/png": "[encoded data removed]",
      "text/plain": [
       "<Figure size 432x288 with 1 Axes>"
      ]
     },
     "metadata": {
      "needs_background": "light"
     },
     "output_type": "display_data"
    }
   ],
   "source": [
    "%matplotlib inline\n",
    "#import numpy as np\n",
    "import matplotlib.pyplot as plt\n",
    "plt.hist(df[\"area\"],bins=200,range=(0,300))\n",
    "#plt.hist(df[\"area\"],bins=20,range=(0,30))\n",
    "#plt.title(\"xxxxxxx\", fontsize=20)   タイトル\n",
    "plt.xlabel(\"Area\", fontsize=20)            # x軸ラベル\n",
    "plt.ylabel(\"Frequency\", fontsize=20)     \n",
    "plt.show()\n"
   ]
  },
  {
   "cell_type": "code",
   "execution_count": null,
   "metadata": {},
   "outputs": [],
   "source": []
  }
 ],
 "metadata": {
  "kernelspec": {
   "display_name": "Python 3",
   "language": "python",
   "name": "python3"
  },
  "language_info": {
   "codemirror_mode": {
    "name": "ipython",
    "version": 3
   },
   "file_extension": ".py",
   "mimetype": "text/x-python",
   "name": "python",
   "nbconvert_exporter": "python",
   "pygments_lexer": "ipython3",
   "version": "3.8.8"
  }
 },
 "nbformat": 4,
 "nbformat_minor": 2
}
